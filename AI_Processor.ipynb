{
  "nbformat": 4,
  "nbformat_minor": 0,
  "metadata": {
    "colab": {
      "provenance": [],
      "gpuType": "T4"
    },
    "kernelspec": {
      "name": "python3",
      "display_name": "Python 3"
    },
    "language_info": {
      "name": "python"
    },
    "accelerator": "GPU"
  },
  "cells": [
    {
      "cell_type": "markdown",
      "source": [
        "# **Implement a perceptron algorithm to classify a small dataset of points into two categories.**"
      ],
      "metadata": {
        "id": "358tMSwggm20"
      }
    },
    {
      "cell_type": "code",
      "execution_count": null,
      "metadata": {
        "colab": {
          "base_uri": "https://localhost:8080/"
        },
        "id": "Fuy7zlODggNd",
        "outputId": "e534db3f-045b-47eb-ffa2-42caa90c8974"
      },
      "outputs": [
        {
          "output_type": "stream",
          "name": "stdout",
          "text": [
            "Trained weights: [0.23188862 0.0847835 ]\n",
            "Trained bias: [-0.27000098]\n",
            "\n",
            "Testing perceptron:\n",
            "Input: [0 0], Predicted: 0, Actual: 0\n",
            "Input: [0 1], Predicted: 0, Actual: 0\n",
            "Input: [1 0], Predicted: 0, Actual: 0\n",
            "Input: [1 1], Predicted: 1, Actual: 1\n"
          ]
        }
      ],
      "source": [
        "import numpy as np\n",
        "\n",
        "# Define the dataset for the AND operation\n",
        "# Inputs and the expected outputs\n",
        "X = np.array([[0, 0], [0, 1], [1, 0], [1, 1]])  # Input features\n",
        "y = np.array([0, 0, 0, 1])  # AND logic gate outputs\n",
        "\n",
        "# Initialize weights and bias\n",
        "weights = np.random.rand(2)  # Two weights for two input features\n",
        "bias = np.random.rand(1)     # Single bias term\n",
        "learning_rate = 0.1          # Learning rate\n",
        "epochs = 20                  # Number of training iterations\n",
        "\n",
        "# Activation function\n",
        "def step_function(x):\n",
        "    return 1 if x >= 0 else 0\n",
        "\n",
        "# Perceptron training\n",
        "for epoch in range(epochs):\n",
        "    for i in range(len(X)):\n",
        "        # Calculate the weighted sum\n",
        "        linear_output = np.dot(weights, X[i]) + bias\n",
        "        # Apply the step function\n",
        "        y_pred = step_function(linear_output)\n",
        "        # Calculate the error\n",
        "        error = y[i] - y_pred\n",
        "        # Update weights and bias\n",
        "        weights += learning_rate * error * X[i]\n",
        "        bias += learning_rate * error\n",
        "\n",
        "# Print the trained weights and bias\n",
        "print(\"Trained weights:\", weights)\n",
        "print(\"Trained bias:\", bias)\n",
        "\n",
        "# Test the perceptron with the same inputs\n",
        "print(\"\\nTesting perceptron:\")\n",
        "for i in range(len(X)):\n",
        "    linear_output = np.dot(weights, X[i]) + bias\n",
        "    y_pred = step_function(linear_output)\n",
        "    print(f\"Input: {X[i]}, Predicted: {y_pred}, Actual: {y[i]}\")"
      ]
    },
    {
      "cell_type": "markdown",
      "source": [
        "# **Train a simple neural network using backpropagation on a dataset (e.g., MNIST) to recognize digits.**"
      ],
      "metadata": {
        "id": "g5O9Ot7hi7G8"
      }
    },
    {
      "cell_type": "code",
      "source": [
        "import tensorflow as tf\n",
        "from tensorflow.keras.models import Sequential\n",
        "from tensorflow.keras.layers import Dense, Flatten\n",
        "from tensorflow.keras.datasets import mnist\n",
        "from tensorflow.keras.utils import to_categorical\n",
        "\n",
        "# Load the MNIST dataset\n",
        "(X_train, y_train), (X_test, y_test) = mnist.load_data()\n",
        "\n",
        "# Preprocess the data\n",
        "X_train = X_train / 255.0  # Normalize to [0, 1]\n",
        "X_test = X_test / 255.0    # Normalize to [0, 1]\n",
        "\n",
        "# One-hot encode the labels\n",
        "y_train = to_categorical(y_train, 10)  # 10 classes (digits 0-9)\n",
        "y_test = to_categorical(y_test, 10)\n",
        "\n",
        "# Define the neural network model\n",
        "model = Sequential([\n",
        "    Flatten(input_shape=(28, 28)),  # Flatten the 28x28 images into 1D vectors\n",
        "    Dense(128, activation='relu'),  # Fully connected layer with 128 neurons\n",
        "    Dense(64, activation='relu'),   # Fully connected layer with 64 neurons\n",
        "    Dense(10, activation='softmax') # Output layer for 10 classes\n",
        "])\n",
        "\n",
        "# Compile the model\n",
        "model.compile(optimizer='adam',\n",
        "              loss='categorical_crossentropy',\n",
        "              metrics=['accuracy'])\n",
        "\n",
        "# Train the model\n",
        "model.fit(X_train, y_train, epochs=10, batch_size=32, validation_split=0.2)\n",
        "\n",
        "# Evaluate the model on the test data\n",
        "test_loss, test_accuracy = model.evaluate(X_test, y_test, verbose=0)\n",
        "print(f\"Test Accuracy: {test_accuracy * 100:.2f}%\")\n",
        "\n",
        "# Make predictions on test data\n",
        "predictions = model.predict(X_test[:5])  # Predict on the first 5 test samples\n",
        "print(\"Predictions (one-hot encoded):\", predictions)\n",
        "print(\"Predicted digits:\", predictions.argmax(axis=1))\n",
        "print(\"Actual digits:\", y_test[:5].argmax(axis=1))"
      ],
      "metadata": {
        "colab": {
          "base_uri": "https://localhost:8080/"
        },
        "id": "-ZCb59vMiCG-",
        "outputId": "bfb97fd3-da53-480a-f945-26db84ca7c4b"
      },
      "execution_count": null,
      "outputs": [
        {
          "output_type": "stream",
          "name": "stdout",
          "text": [
            "Downloading data from https://storage.googleapis.com/tensorflow/tf-keras-datasets/mnist.npz\n",
            "\u001b[1m11490434/11490434\u001b[0m \u001b[32m━━━━━━━━━━━━━━━━━━━━\u001b[0m\u001b[37m\u001b[0m \u001b[1m0s\u001b[0m 0us/step\n"
          ]
        },
        {
          "output_type": "stream",
          "name": "stderr",
          "text": [
            "/usr/local/lib/python3.10/dist-packages/keras/src/layers/reshaping/flatten.py:37: UserWarning: Do not pass an `input_shape`/`input_dim` argument to a layer. When using Sequential models, prefer using an `Input(shape)` object as the first layer in the model instead.\n",
            "  super().__init__(**kwargs)\n"
          ]
        },
        {
          "output_type": "stream",
          "name": "stdout",
          "text": [
            "Epoch 1/10\n",
            "\u001b[1m1500/1500\u001b[0m \u001b[32m━━━━━━━━━━━━━━━━━━━━\u001b[0m\u001b[37m\u001b[0m \u001b[1m7s\u001b[0m 4ms/step - accuracy: 0.8588 - loss: 0.4803 - val_accuracy: 0.9598 - val_loss: 0.1333\n",
            "Epoch 2/10\n",
            "\u001b[1m1500/1500\u001b[0m \u001b[32m━━━━━━━━━━━━━━━━━━━━\u001b[0m\u001b[37m\u001b[0m \u001b[1m8s\u001b[0m 5ms/step - accuracy: 0.9663 - loss: 0.1122 - val_accuracy: 0.9662 - val_loss: 0.1094\n",
            "Epoch 3/10\n",
            "\u001b[1m1500/1500\u001b[0m \u001b[32m━━━━━━━━━━━━━━━━━━━━\u001b[0m\u001b[37m\u001b[0m \u001b[1m6s\u001b[0m 4ms/step - accuracy: 0.9776 - loss: 0.0757 - val_accuracy: 0.9713 - val_loss: 0.0923\n",
            "Epoch 4/10\n",
            "\u001b[1m1500/1500\u001b[0m \u001b[32m━━━━━━━━━━━━━━━━━━━━\u001b[0m\u001b[37m\u001b[0m \u001b[1m8s\u001b[0m 5ms/step - accuracy: 0.9840 - loss: 0.0523 - val_accuracy: 0.9708 - val_loss: 0.0991\n",
            "Epoch 5/10\n",
            "\u001b[1m1500/1500\u001b[0m \u001b[32m━━━━━━━━━━━━━━━━━━━━\u001b[0m\u001b[37m\u001b[0m \u001b[1m9s\u001b[0m 4ms/step - accuracy: 0.9875 - loss: 0.0390 - val_accuracy: 0.9754 - val_loss: 0.0837\n",
            "Epoch 6/10\n",
            "\u001b[1m1500/1500\u001b[0m \u001b[32m━━━━━━━━━━━━━━━━━━━━\u001b[0m\u001b[37m\u001b[0m \u001b[1m9s\u001b[0m 4ms/step - accuracy: 0.9895 - loss: 0.0318 - val_accuracy: 0.9715 - val_loss: 0.0990\n",
            "Epoch 7/10\n",
            "\u001b[1m1500/1500\u001b[0m \u001b[32m━━━━━━━━━━━━━━━━━━━━\u001b[0m\u001b[37m\u001b[0m \u001b[1m11s\u001b[0m 4ms/step - accuracy: 0.9909 - loss: 0.0277 - val_accuracy: 0.9737 - val_loss: 0.1019\n",
            "Epoch 8/10\n",
            "\u001b[1m1500/1500\u001b[0m \u001b[32m━━━━━━━━━━━━━━━━━━━━\u001b[0m\u001b[37m\u001b[0m \u001b[1m8s\u001b[0m 5ms/step - accuracy: 0.9935 - loss: 0.0225 - val_accuracy: 0.9739 - val_loss: 0.1035\n",
            "Epoch 9/10\n",
            "\u001b[1m1500/1500\u001b[0m \u001b[32m━━━━━━━━━━━━━━━━━━━━\u001b[0m\u001b[37m\u001b[0m \u001b[1m8s\u001b[0m 4ms/step - accuracy: 0.9938 - loss: 0.0185 - val_accuracy: 0.9751 - val_loss: 0.0973\n",
            "Epoch 10/10\n",
            "\u001b[1m1500/1500\u001b[0m \u001b[32m━━━━━━━━━━━━━━━━━━━━\u001b[0m\u001b[37m\u001b[0m \u001b[1m8s\u001b[0m 5ms/step - accuracy: 0.9941 - loss: 0.0180 - val_accuracy: 0.9745 - val_loss: 0.1048\n",
            "Test Accuracy: 97.80%\n",
            "\u001b[1m1/1\u001b[0m \u001b[32m━━━━━━━━━━━━━━━━━━━━\u001b[0m\u001b[37m\u001b[0m \u001b[1m0s\u001b[0m 53ms/step\n",
            "Predictions (one-hot encoded): [[7.2453951e-14 1.5399361e-07 3.4102440e-11 3.7413631e-08 4.7398968e-14\n",
            "  6.6341968e-13 2.0792452e-17 9.9999988e-01 1.3748283e-11 2.2754318e-08]\n",
            " [1.1192933e-13 1.0782137e-06 9.9999893e-01 1.4469684e-09 4.1100575e-20\n",
            "  9.2034651e-16 4.8752096e-14 1.0729447e-11 5.3591983e-12 2.5751822e-18]\n",
            " [1.2206583e-08 9.9981707e-01 1.8478674e-07 1.2527550e-09 2.2840522e-05\n",
            "  2.0863654e-07 2.6419912e-06 3.9795050e-05 1.1718165e-04 7.4804774e-08]\n",
            " [9.9998009e-01 7.4600770e-09 2.3373996e-06 9.4831157e-11 2.4923916e-09\n",
            "  1.5212170e-12 1.2505735e-06 5.5168044e-08 1.0201354e-10 1.6205904e-05]\n",
            " [1.5669334e-12 4.6409903e-13 1.8881703e-11 4.5389802e-15 9.9999940e-01\n",
            "  3.4105965e-13 7.5958115e-11 4.5029585e-09 1.1854084e-11 5.4450373e-07]]\n",
            "Predicted digits: [7 2 1 0 4]\n",
            "Actual digits: [7 2 1 0 4]\n"
          ]
        }
      ]
    },
    {
      "cell_type": "markdown",
      "source": [
        "# **Test the performance of a neural network on a dataset by comparing ReLU, Sigmoid, and Tanh activations.**"
      ],
      "metadata": {
        "id": "3yDygGRdkAik"
      }
    },
    {
      "cell_type": "code",
      "source": [
        "import numpy as np\n",
        "import matplotlib.pyplot as plt\n",
        "from tensorflow.keras.models import Sequential\n",
        "from tensorflow.keras.layers import Dense, Flatten\n",
        "from tensorflow.keras.datasets import mnist\n",
        "from tensorflow.keras.utils import to_categorical\n",
        "\n",
        "# Load the MNIST dataset\n",
        "(X_train, y_train), (X_test, y_test) = mnist.load_data()\n",
        "\n",
        "# Preprocess the data\n",
        "X_train = X_train / 255.0  # Normalize to [0, 1]\n",
        "X_test = X_test / 255.0    # Normalize to [0, 1]\n",
        "y_train = to_categorical(y_train, 10)  # One-hot encode labels\n",
        "y_test = to_categorical(y_test, 10)\n",
        "\n",
        "# Function to create a model with a given activation function\n",
        "def create_model(activation):\n",
        "    model = Sequential([\n",
        "        Flatten(input_shape=(28, 28)),  # Flatten 28x28 images into 1D vectors\n",
        "        Dense(128, activation=activation),  # Hidden layer 1\n",
        "        Dense(64, activation=activation),   # Hidden layer 2\n",
        "        Dense(10, activation='softmax')     # Output layer\n",
        "    ])\n",
        "    model.compile(optimizer='adam',\n",
        "                  loss='categorical_crossentropy',\n",
        "                  metrics=['accuracy'])\n",
        "    return model\n",
        "\n",
        "# List of activation functions to test\n",
        "activations = ['relu', 'sigmoid', 'tanh']\n",
        "accuracies = []\n",
        "\n",
        "# Train and evaluate models with different activation functions\n",
        "for activation in activations:\n",
        "    print(f\"Training model with {activation} activation...\")\n",
        "    model = create_model(activation)\n",
        "    model.fit(X_train, y_train, epochs=5, batch_size=32, verbose=0)  # Train for 5 epochs\n",
        "    _, accuracy = model.evaluate(X_test, y_test, verbose=0)  # Evaluate on test data\n",
        "    accuracies.append(accuracy)\n",
        "    print(f\"Test Accuracy with {activation}: {accuracy * 100:.2f}%\")\n",
        "\n",
        "# Plot the results\n",
        "plt.figure(figsize=(8, 5))\n",
        "plt.bar(activations, accuracies, color=['blue', 'orange', 'green'])\n",
        "plt.xlabel('Activation Function')\n",
        "plt.ylabel('Test Accuracy')\n",
        "plt.title('Comparison of Activation Functions on MNIST')\n",
        "plt.ylim(0.95, 1.0)  # Scale to highlight differences\n",
        "plt.show()"
      ],
      "metadata": {
        "colab": {
          "base_uri": "https://localhost:8080/",
          "height": 596
        },
        "id": "Yo8neNphji67",
        "outputId": "a089d180-0c9e-439c-a436-7d2218cd0d9a"
      },
      "execution_count": null,
      "outputs": [
        {
          "output_type": "stream",
          "name": "stdout",
          "text": [
            "Training model with relu activation...\n",
            "Test Accuracy with relu: 97.77%\n",
            "Training model with sigmoid activation...\n",
            "Test Accuracy with sigmoid: 97.36%\n",
            "Training model with tanh activation...\n",
            "Test Accuracy with tanh: 97.53%\n"
          ]
        },
        {
          "output_type": "display_data",
          "data": {
            "text/plain": [
              "<Figure size 800x500 with 1 Axes>"
            ],
            "image/png": "[encoded data removed]"
          },
          "metadata": {}
        }
      ]
    },
    {
      "cell_type": "markdown",
      "source": [
        "# **Design and train a CNN model to classify a small dataset of 10 sample images into two categories.**"
      ],
      "metadata": {
        "id": "gUdaH4wElr88"
      }
    },
    {
      "cell_type": "code",
      "source": [
        "import numpy as np\n",
        "import matplotlib.pyplot as plt\n",
        "from tensorflow.keras.models import Sequential\n",
        "from tensorflow.keras.layers import Conv2D, MaxPooling2D, Flatten, Dense\n",
        "from tensorflow.keras.datasets import cifar10\n",
        "from tensorflow.keras.utils import to_categorical\n",
        "\n",
        "# Load the CIFAR-10 dataset\n",
        "(X_train_full, y_train_full), (X_test_full, y_test_full) = cifar10.load_data()\n",
        "\n",
        "# Use the first 5 samples of class 0 (airplane) and class 1 (automobile) for training\n",
        "class_0_idx = np.where(y_train_full.flatten() == 0)[0][:5]\n",
        "class_1_idx = np.where(y_train_full.flatten() == 1)[0][:5]\n",
        "subset_indices = np.concatenate((class_0_idx, class_1_idx))\n",
        "\n",
        "X_train = X_train_full[subset_indices]\n",
        "y_train = y_train_full[subset_indices]\n",
        "\n",
        "# Use 2 samples from each class for testing\n",
        "class_0_test_idx = np.where(y_test_full.flatten() == 0)[0][:2]\n",
        "class_1_test_idx = np.where(y_test_full.flatten() == 1)[0][:2]\n",
        "test_indices = np.concatenate((class_0_test_idx, class_1_test_idx))\n",
        "\n",
        "X_test = X_test_full[test_indices]\n",
        "y_test = y_test_full[test_indices]\n",
        "\n",
        "# Normalize pixel values to the range [0, 1]\n",
        "X_train = X_train / 255.0\n",
        "X_test = X_test / 255.0\n",
        "\n",
        "# Convert labels to binary class indicators (0 and 1)\n",
        "y_train = to_categorical((y_train == 1).astype(int), 2)\n",
        "y_test = to_categorical((y_test == 1).astype(int), 2)\n",
        "\n",
        "# Define a simple CNN model\n",
        "model = Sequential([\n",
        "    Conv2D(32, (3, 3), activation='relu', input_shape=(32, 32, 3)),\n",
        "    MaxPooling2D((2, 2)),\n",
        "    Conv2D(64, (3, 3), activation='relu'),\n",
        "    MaxPooling2D((2, 2)),\n",
        "    Flatten(),\n",
        "    Dense(64, activation='relu'),\n",
        "    Dense(2, activation='softmax')  # 2 categories\n",
        "])\n",
        "\n",
        "# Compile the model\n",
        "model.compile(optimizer='adam',\n",
        "              loss='categorical_crossentropy',\n",
        "              metrics=['accuracy'])\n",
        "\n",
        "# Train the model\n",
        "history = model.fit(X_train, y_train, epochs=10, batch_size=2, verbose=1)\n",
        "\n",
        "# Evaluate the model\n",
        "test_loss, test_accuracy = model.evaluate(X_test, y_test, verbose=0)\n",
        "print(f\"Test Accuracy: {test_accuracy * 100:.2f}%\")\n",
        "\n",
        "# Display training and testing samples\n",
        "fig, axs = plt.subplots(1, 4, figsize=(12, 4))\n",
        "for i in range(4):\n",
        "    axs[i].imshow(X_test[i])\n",
        "    axs[i].axis('off')\n",
        "    axs[i].set_title(f\"Label: {np.argmax(y_test[i])}\")\n",
        "plt.tight_layout()\n",
        "plt.show()"
      ],
      "metadata": {
        "colab": {
          "base_uri": "https://localhost:8080/",
          "height": 814
        },
        "id": "8LCliexzkWlN",
        "outputId": "508b7170-5ce0-4ec7-f162-464e6d1ce570"
      },
      "execution_count": null,
      "outputs": [
        {
          "output_type": "stream",
          "name": "stdout",
          "text": [
            "Downloading data from https://www.cs.toronto.edu/~kriz/cifar-10-python.tar.gz\n",
            "\u001b[1m170498071/170498071\u001b[0m \u001b[32m━━━━━━━━━━━━━━━━━━━━\u001b[0m\u001b[37m\u001b[0m \u001b[1m4s\u001b[0m 0us/step\n",
            "Epoch 1/10\n"
          ]
        },
        {
          "output_type": "stream",
          "name": "stderr",
          "text": [
            "/usr/local/lib/python3.10/dist-packages/keras/src/layers/convolutional/base_conv.py:107: UserWarning: Do not pass an `input_shape`/`input_dim` argument to a layer. When using Sequential models, prefer using an `Input(shape)` object as the first layer in the model instead.\n",
            "  super().__init__(activity_regularizer=activity_regularizer, **kwargs)\n"
          ]
        },
        {
          "output_type": "stream",
          "name": "stdout",
          "text": [
            "\u001b[1m5/5\u001b[0m \u001b[32m━━━━━━━━━━━━━━━━━━━━\u001b[0m\u001b[37m\u001b[0m \u001b[1m1s\u001b[0m 7ms/step - accuracy: 0.5208 - loss: 0.7084\n",
            "Epoch 2/10\n",
            "\u001b[1m5/5\u001b[0m \u001b[32m━━━━━━━━━━━━━━━━━━━━\u001b[0m\u001b[37m\u001b[0m \u001b[1m0s\u001b[0m 7ms/step - accuracy: 0.3958 - loss: 0.7566     \n",
            "Epoch 3/10\n",
            "\u001b[1m5/5\u001b[0m \u001b[32m━━━━━━━━━━━━━━━━━━━━\u001b[0m\u001b[37m\u001b[0m \u001b[1m0s\u001b[0m 7ms/step - accuracy: 0.7389 - loss: 0.5918 \n",
            "Epoch 4/10\n",
            "\u001b[1m5/5\u001b[0m \u001b[32m━━━━━━━━━━━━━━━━━━━━\u001b[0m\u001b[37m\u001b[0m \u001b[1m0s\u001b[0m 8ms/step - accuracy: 0.7389 - loss: 0.5687 \n",
            "Epoch 5/10\n",
            "\u001b[1m5/5\u001b[0m \u001b[32m━━━━━━━━━━━━━━━━━━━━\u001b[0m\u001b[37m\u001b[0m \u001b[1m0s\u001b[0m 7ms/step - accuracy: 1.0000 - loss: 0.4782 \n",
            "Epoch 6/10\n",
            "\u001b[1m5/5\u001b[0m \u001b[32m━━━━━━━━━━━━━━━━━━━━\u001b[0m\u001b[37m\u001b[0m \u001b[1m0s\u001b[0m 11ms/step - accuracy: 0.9458 - loss: 0.4270\n",
            "Epoch 7/10\n",
            "\u001b[1m5/5\u001b[0m \u001b[32m━━━━━━━━━━━━━━━━━━━━\u001b[0m\u001b[37m\u001b[0m \u001b[1m0s\u001b[0m 7ms/step - accuracy: 0.9458 - loss: 0.3575 \n",
            "Epoch 8/10\n",
            "\u001b[1m5/5\u001b[0m \u001b[32m━━━━━━━━━━━━━━━━━━━━\u001b[0m\u001b[37m\u001b[0m \u001b[1m0s\u001b[0m 8ms/step - accuracy: 1.0000 - loss: 0.2825  \n",
            "Epoch 9/10\n",
            "\u001b[1m5/5\u001b[0m \u001b[32m━━━━━━━━━━━━━━━━━━━━\u001b[0m\u001b[37m\u001b[0m \u001b[1m0s\u001b[0m 7ms/step - accuracy: 1.0000 - loss: 0.2001 \n",
            "Epoch 10/10\n",
            "\u001b[1m5/5\u001b[0m \u001b[32m━━━━━━━━━━━━━━━━━━━━\u001b[0m\u001b[37m\u001b[0m \u001b[1m0s\u001b[0m 10ms/step - accuracy: 1.0000 - loss: 0.1469 \n",
            "Test Accuracy: 75.00%\n"
          ]
        },
        {
          "output_type": "display_data",
          "data": {
            "text/plain": [
              "<Figure size 1200x400 with 4 Axes>"
            ],
            "image/png": "[encoded data removed]"
          },
          "metadata": {}
        }
      ]
    },
    {
      "cell_type": "markdown",
      "source": [
        "# **Develop an LSTM model to predict the next value in a small sequence of numbers (e.g., Fibonacci series)**"
      ],
      "metadata": {
        "id": "4QhQT_2hlxKr"
      }
    },
    {
      "cell_type": "code",
      "source": [
        "import numpy as np\n",
        "from tensorflow.keras.models import Sequential\n",
        "from tensorflow.keras.layers import LSTM, Dense\n",
        "from sklearn.preprocessing import MinMaxScaler\n",
        "\n",
        "# Generate a Fibonacci series\n",
        "def generate_fibonacci(n):\n",
        "    sequence = [0, 1]\n",
        "    for i in range(2, n):\n",
        "        sequence.append(sequence[-1] + sequence[-2])\n",
        "    return np.array(sequence, dtype=np.float32)\n",
        "\n",
        "# Prepare the dataset\n",
        "def create_dataset(sequence, step_size):\n",
        "    X, y = [], []\n",
        "    for i in range(len(sequence) - step_size):\n",
        "        X.append(sequence[i:i + step_size])\n",
        "        y.append(sequence[i + step_size])\n",
        "    return np.array(X), np.array(y)\n",
        "\n",
        "# Generate Fibonacci series\n",
        "n_terms = 15  # Number of terms in the Fibonacci series\n",
        "step_size = 3  # Number of previous steps to predict the next\n",
        "fibonacci_sequence = generate_fibonacci(n_terms)\n",
        "\n",
        "# Normalize the sequence\n",
        "scaler = MinMaxScaler()\n",
        "fibonacci_sequence = scaler.fit_transform(fibonacci_sequence.reshape(-1, 1)).flatten()\n",
        "\n",
        "# Create the dataset\n",
        "X, y = create_dataset(fibonacci_sequence, step_size)\n",
        "\n",
        "# Reshape input for LSTM (samples, timesteps, features)\n",
        "X = X.reshape(X.shape[0], X.shape[1], 1)\n",
        "\n",
        "# Define the LSTM model\n",
        "model = Sequential([\n",
        "    LSTM(50, activation='relu', input_shape=(step_size, 1)),\n",
        "    Dense(1)\n",
        "])\n",
        "\n",
        "# Compile the model\n",
        "model.compile(optimizer='adam', loss='mse')\n",
        "\n",
        "# Train the model\n",
        "model.fit(X, y, epochs=200, verbose=0)\n",
        "\n",
        "# Test the model\n",
        "test_input = fibonacci_sequence[-step_size:]  # Last sequence in the dataset\n",
        "test_input = test_input.reshape((1, step_size, 1))  # Reshape for LSTM\n",
        "\n",
        "predicted_value = model.predict(test_input)\n",
        "predicted_value = scaler.inverse_transform(predicted_value)[0][0]\n",
        "\n",
        "# Print results\n",
        "print(f\"Last sequence: {scaler.inverse_transform(test_input[0].reshape(-1, 1)).flatten()}\")\n",
        "print(f\"Predicted next value: {predicted_value}\")\n",
        "\n",
        "# Validate against the true Fibonacci value\n",
        "true_next_value = generate_fibonacci(n_terms + 1)[-1]\n",
        "print(f\"True next value: {true_next_value}\")"
      ],
      "metadata": {
        "colab": {
          "base_uri": "https://localhost:8080/"
        },
        "id": "ooFKNlyClh7V",
        "outputId": "54bb22b2-a4d3-48e2-d34f-7616ba201d69"
      },
      "execution_count": null,
      "outputs": [
        {
          "output_type": "stream",
          "name": "stderr",
          "text": [
            "/usr/local/lib/python3.10/dist-packages/keras/src/layers/rnn/rnn.py:204: UserWarning: Do not pass an `input_shape`/`input_dim` argument to a layer. When using Sequential models, prefer using an `Input(shape)` object as the first layer in the model instead.\n",
            "  super().__init__(**kwargs)\n"
          ]
        },
        {
          "output_type": "stream",
          "name": "stdout",
          "text": [
            "\u001b[1m1/1\u001b[0m \u001b[32m━━━━━━━━━━━━━━━━━━━━\u001b[0m\u001b[37m\u001b[0m \u001b[1m0s\u001b[0m 148ms/step\n",
            "Last sequence: [144. 233. 377.]\n",
            "Predicted next value: 544.8402099609375\n",
            "True next value: 610.0\n"
          ]
        }
      ]
    },
    {
      "cell_type": "markdown",
      "source": [
        "# **Compare the training times of a simple neural network on CPU and GPU using a provided dataset**"
      ],
      "metadata": {
        "id": "nsfVJkUvmdZT"
      }
    },
    {
      "cell_type": "code",
      "source": [
        "import tensorflow as tf\n",
        "import time\n",
        "from tensorflow.keras.models import Sequential\n",
        "from tensorflow.keras.layers import Dense, Flatten\n",
        "from tensorflow.keras.datasets import mnist\n",
        "\n",
        "# Load the MNIST dataset\n",
        "(X_train, y_train), (X_test, y_test) = mnist.load_data()\n",
        "\n",
        "# Preprocess the data\n",
        "X_train = X_train / 255.0  # Normalize to [0, 1]\n",
        "X_test = X_test / 255.0    # Normalize to [0, 1]\n",
        "y_train = tf.keras.utils.to_categorical(y_train, 10)  # One-hot encode labels\n",
        "y_test = tf.keras.utils.to_categorical(y_test, 10)\n",
        "\n",
        "# Define a simple neural network model\n",
        "def create_model():\n",
        "    model = Sequential([\n",
        "        Flatten(input_shape=(28, 28)),\n",
        "        Dense(128, activation='relu'),\n",
        "        Dense(64, activation='relu'),\n",
        "        Dense(10, activation='softmax')\n",
        "    ])\n",
        "    model.compile(optimizer='adam',\n",
        "                  loss='categorical_crossentropy',\n",
        "                  metrics=['accuracy'])\n",
        "    return model\n",
        "\n",
        "# Measure training time on CPU\n",
        "with tf.device('/CPU:0'):\n",
        "    model_cpu = create_model()\n",
        "    start_time = time.time()\n",
        "    model_cpu.fit(X_train, y_train, epochs=5, batch_size=64, verbose=0)\n",
        "    cpu_training_time = time.time() - start_time\n",
        "    print(f\"Training time on CPU: {cpu_training_time:.2f} seconds\")\n",
        "\n",
        "# Measure training time on GPU (if available)\n",
        "if tf.test.is_gpu_available():\n",
        "    with tf.device('/GPU:0'):\n",
        "        model_gpu = create_model()\n",
        "        start_time = time.time()\n",
        "        model_gpu.fit(X_train, y_train, epochs=5, batch_size=64, verbose=0)\n",
        "        gpu_training_time = time.time() - start_time\n",
        "        print(f\"Training time on GPU: {gpu_training_time:.2f} seconds\")\n",
        "else:\n",
        "    gpu_training_time = None\n",
        "    print(\"GPU not available.\")\n",
        "\n",
        "# Compare the results\n",
        "if gpu_training_time is not None:\n",
        "    print(f\"GPU was {cpu_training_time / gpu_training_time:.2f} times faster than CPU.\")"
      ],
      "metadata": {
        "colab": {
          "base_uri": "https://localhost:8080/"
        },
        "id": "a70hQQnRl7yk",
        "outputId": "b6184a34-b8fe-4e91-a39b-4fc89df1eba5"
      },
      "execution_count": null,
      "outputs": [
        {
          "output_type": "stream",
          "name": "stdout",
          "text": [
            "Training time on CPU: 13.66 seconds\n",
            "Training time on GPU: 9.32 seconds\n",
            "GPU was 1.47 times faster than CPU.\n"
          ]
        }
      ]
    },
    {
      "cell_type": "markdown",
      "source": [
        "# **Create a small dataset and analyze its processing speed using an AI accelerator (TPU) vs CPU.**"
      ],
      "metadata": {
        "id": "LUoVYTupoBxs"
      }
    },
    {
      "cell_type": "code",
      "source": [
        "import tensorflow as tf\n",
        "import numpy as np\n",
        "import time\n",
        "\n",
        "# Check TPU availability\n",
        "try:\n",
        "    tpu = tf.distribute.cluster_resolver.TPUClusterResolver()  # Detect TPU\n",
        "    print(\"TPU found. Initializing...\")\n",
        "    tf.config.experimental_connect_to_cluster(tpu)\n",
        "    tf.tpu.experimental.initialize_tpu_system(tpu)\n",
        "    strategy = tf.distribute.TPUStrategy(tpu)  # Set TPU strategy\n",
        "except ValueError:\n",
        "    print(\"No TPU found. Using default strategy.\")\n",
        "    strategy = tf.distribute.get_strategy()  # Use CPU/GPU\n",
        "\n",
        "# Generate a small synthetic dataset\n",
        "def create_dataset(num_samples=1000, input_dim=20, num_classes=2):\n",
        "    X = np.random.rand(num_samples, input_dim).astype(np.float32)\n",
        "    y = np.random.randint(0, num_classes, size=(num_samples,))\n",
        "    y = tf.keras.utils.to_categorical(y, num_classes)  # One-hot encode labels\n",
        "    return X, y\n",
        "\n",
        "# Create a small dataset\n",
        "input_dim = 20\n",
        "num_classes = 2\n",
        "X_train, y_train = create_dataset(num_samples=1000, input_dim=input_dim, num_classes=num_classes)\n",
        "\n",
        "# Define a simple model\n",
        "def create_model(input_dim, num_classes):\n",
        "    model = tf.keras.Sequential([\n",
        "        tf.keras.layers.Dense(64, activation='relu', input_shape=(input_dim,)),\n",
        "        tf.keras.layers.Dense(32, activation='relu'),\n",
        "        tf.keras.layers.Dense(num_classes, activation='softmax')\n",
        "    ])\n",
        "    model.compile(optimizer='adam',\n",
        "                  loss='categorical_crossentropy',\n",
        "                  metrics=['accuracy'])\n",
        "    return model\n",
        "\n",
        "# Measure training time on CPU/GPU\n",
        "with tf.device('/CPU:0'):\n",
        "    model_cpu = create_model(input_dim, num_classes)\n",
        "    start_time = time.time()\n",
        "    model_cpu.fit(X_train, y_train, epochs=5, batch_size=64, verbose=0)\n",
        "    cpu_training_time = time.time() - start_time\n",
        "    print(f\"Training time on CPU: {cpu_training_time:.2f} seconds\")\n",
        "\n",
        "# Measure training time on TPU\n",
        "with strategy.scope():\n",
        "    model_tpu = create_model(input_dim, num_classes)\n",
        "    start_time = time.time()\n",
        "    model_tpu.fit(X_train, y_train, epochs=5, batch_size=64, verbose=0)\n",
        "    tpu_training_time = time.time() - start_time\n",
        "    print(f\"Training time on TPU: {tpu_training_time:.2f} seconds\")\n",
        "\n",
        "# Compare results\n",
        "if tpu_training_time > 0:\n",
        "    print(f\"TPU was {cpu_training_time / tpu_training_time:.2f} times faster than CPU.\")\n",
        "else:\n",
        "    print(\"TPU training time not measurable.\")"
      ],
      "metadata": {
        "colab": {
          "base_uri": "https://localhost:8080/"
        },
        "id": "SD3tzojLmjBV",
        "outputId": "b3a7e594-6537-4e3e-f6cd-87e5a7ea5f8b"
      },
      "execution_count": null,
      "outputs": [
        {
          "output_type": "stream",
          "name": "stderr",
          "text": [
            "WARNING:tensorflow:TPU system local has already been initialized. Reinitializing the TPU can cause previously created variables on TPU to be lost.\n"
          ]
        },
        {
          "output_type": "stream",
          "name": "stdout",
          "text": [
            "TPU found. Initializing...\n",
            "Training time on CPU: 0.70 seconds\n",
            "Training time on TPU: 4.19 seconds\n",
            "TPU was 0.17 times faster than CPU.\n"
          ]
        }
      ]
    },
    {
      "cell_type": "markdown",
      "source": [
        "# **Train a neural network on a synthetic dataset and compare its performance using Adam and SGD optimizers**"
      ],
      "metadata": {
        "id": "Xcy39klNowBL"
      }
    },
    {
      "cell_type": "code",
      "source": [
        "import numpy as np\n",
        "import tensorflow as tf\n",
        "from tensorflow.keras.models import Sequential\n",
        "from tensorflow.keras.layers import Dense\n",
        "import matplotlib.pyplot as plt\n",
        "\n",
        "# Generate a synthetic dataset\n",
        "def create_dataset(num_samples=1000, input_dim=20, num_classes=2):\n",
        "    X = np.random.rand(num_samples, input_dim).astype(np.float32)  # Random features\n",
        "    y = np.random.randint(0, num_classes, size=(num_samples,))     # Random binary labels\n",
        "    y = tf.keras.utils.to_categorical(y, num_classes)             # One-hot encode labels\n",
        "    return X, y\n",
        "\n",
        "# Create dataset\n",
        "input_dim = 20\n",
        "num_classes = 2\n",
        "X_train, y_train = create_dataset(num_samples=1000, input_dim=input_dim, num_classes=num_classes)\n",
        "X_test, y_test = create_dataset(num_samples=200, input_dim=input_dim, num_classes=num_classes)\n",
        "\n",
        "# Define a simple neural network model\n",
        "def create_model(input_dim, num_classes):\n",
        "    model = Sequential([\n",
        "        Dense(64, activation='relu', input_shape=(input_dim,)),\n",
        "        Dense(32, activation='relu'),\n",
        "        Dense(num_classes, activation='softmax')\n",
        "    ])\n",
        "    return model\n",
        "\n",
        "# Train and evaluate the model with different optimizers\n",
        "optimizers = ['adam', 'sgd']\n",
        "accuracy_results = []\n",
        "\n",
        "for optimizer in optimizers:\n",
        "    print(f\"Training with {optimizer} optimizer...\")\n",
        "    model = create_model(input_dim, num_classes)\n",
        "    model.compile(optimizer=optimizer, loss='categorical_crossentropy', metrics=['accuracy'])\n",
        "    model.fit(X_train, y_train, epochs=10, batch_size=32, verbose=0)  # Train for 10 epochs\n",
        "    _, accuracy = model.evaluate(X_test, y_test, verbose=0)  # Evaluate on test data\n",
        "    accuracy_results.append(accuracy)\n",
        "    print(f\"Accuracy with {optimizer}: {accuracy * 100:.2f}%\")\n",
        "\n",
        "# Plot the results\n",
        "plt.figure(figsize=(8, 5))\n",
        "plt.bar(optimizers, accuracy_results, color=['blue', 'orange'])\n",
        "plt.xlabel('Optimizer')\n",
        "plt.ylabel('Test Accuracy')\n",
        "plt.title('Comparison of Optimizers (Adam vs SGD)')\n",
        "plt.ylim(0, 1)  # Accuracy scale from 0 to 1\n",
        "plt.show()"
      ],
      "metadata": {
        "colab": {
          "base_uri": "https://localhost:8080/",
          "height": 560
        },
        "id": "2bVYPe6foKxs",
        "outputId": "0655bbe1-8f41-47ec-f91c-d5e2e207984c"
      },
      "execution_count": null,
      "outputs": [
        {
          "output_type": "stream",
          "name": "stdout",
          "text": [
            "Training with adam optimizer...\n",
            "Accuracy with adam: 49.50%\n",
            "Training with sgd optimizer...\n",
            "Accuracy with sgd: 48.00%\n"
          ]
        },
        {
          "output_type": "display_data",
          "data": {
            "text/plain": [
              "<Figure size 800x500 with 1 Axes>"
            ],
            "image/png": "[encoded data removed]"
          },
          "metadata": {}
        }
      ]
    },
    {
      "cell_type": "markdown",
      "source": [
        "# **Implement a CNN to identify whether an image dataset contains cats or dogs (binary classification).**"
      ],
      "metadata": {
        "id": "lK7AadVrpDFE"
      }
    },
    {
      "cell_type": "code",
      "source": [
        "import tensorflow as tf\n",
        "from tensorflow.keras.models import Sequential\n",
        "from tensorflow.keras.layers import Conv2D, MaxPooling2D, Flatten, Dense, Dropout\n",
        "from tensorflow.keras.preprocessing.image import ImageDataGenerator\n",
        "import os\n",
        "import zipfile\n",
        "import shutil\n",
        "import matplotlib.pyplot as plt\n",
        "\n",
        "# Download and extract the dataset\n",
        "url = 'https://storage.googleapis.com/mledu-datasets/cats_and_dogs_filtered.zip'\n",
        "dataset_path = tf.keras.utils.get_file('cats_and_dogs_filtered.zip', origin=url, extract=True)\n",
        "\n",
        "# Define dataset paths\n",
        "base_dir = os.path.join(os.path.dirname(dataset_path), 'cats_and_dogs_filtered')\n",
        "train_dir = os.path.join(base_dir, 'train')\n",
        "validation_dir = os.path.join(base_dir, 'validation')\n",
        "\n",
        "# Preprocess the dataset\n",
        "train_datagen = ImageDataGenerator(\n",
        "    rescale=1.0/255,  # Normalize pixel values\n",
        "    rotation_range=20,\n",
        "    width_shift_range=0.2,\n",
        "    height_shift_range=0.2,\n",
        "    shear_range=0.2,\n",
        "    zoom_range=0.2,\n",
        "    horizontal_flip=True\n",
        ")\n",
        "\n",
        "validation_datagen = ImageDataGenerator(rescale=1.0/255)\n",
        "\n",
        "# Generate batches of image data\n",
        "train_generator = train_datagen.flow_from_directory(\n",
        "    train_dir,\n",
        "    target_size=(150, 150),\n",
        "    batch_size=32,\n",
        "    class_mode='binary'  # Binary classification\n",
        ")\n",
        "\n",
        "validation_generator = validation_datagen.flow_from_directory(\n",
        "    validation_dir,\n",
        "    target_size=(150, 150),\n",
        "    batch_size=32,\n",
        "    class_mode='binary'\n",
        ")\n",
        "\n",
        "# Build the CNN model\n",
        "model = Sequential([\n",
        "    Conv2D(32, (3, 3), activation='relu', input_shape=(150, 150, 3)),\n",
        "    MaxPooling2D((2, 2)),\n",
        "    Conv2D(64, (3, 3), activation='relu'),\n",
        "    MaxPooling2D((2, 2)),\n",
        "    Conv2D(128, (3, 3), activation='relu'),\n",
        "    MaxPooling2D((2, 2)),\n",
        "    Flatten(),\n",
        "    Dense(512, activation='relu'),\n",
        "    Dropout(0.5),  # Dropout for regularization\n",
        "    Dense(1, activation='sigmoid')  # Binary classification\n",
        "])\n",
        "\n",
        "# Compile the model\n",
        "model.compile(\n",
        "    optimizer='adam',\n",
        "    loss='binary_crossentropy',\n",
        "    metrics=['accuracy']\n",
        ")\n",
        "\n",
        "# Train the model\n",
        "history = model.fit(\n",
        "    train_generator,\n",
        "    steps_per_epoch=train_generator.samples // train_generator.batch_size,\n",
        "    epochs=10,\n",
        "    validation_data=validation_generator,\n",
        "    validation_steps=validation_generator.samples // validation_generator.batch_size\n",
        ")\n",
        "\n",
        "# Evaluate the model\n",
        "loss, accuracy = model.evaluate(validation_generator)\n",
        "print(f\"Validation Accuracy: {accuracy * 100:.2f}%\")\n",
        "\n",
        "# Plot training history\n",
        "plt.figure(figsize=(12, 4))\n",
        "plt.subplot(1, 2, 1)\n",
        "plt.plot(history.history['accuracy'], label='Train Accuracy')\n",
        "plt.plot(history.history['val_accuracy'], label='Validation Accuracy')\n",
        "plt.legend()\n",
        "plt.title('Accuracy')\n",
        "plt.subplot(1, 2, 2)\n",
        "plt.plot(history.history['loss'], label='Train Loss')\n",
        "plt.plot(history.history['val_loss'], label='Validation Loss')\n",
        "plt.legend()\n",
        "plt.title('Loss')\n",
        "plt.show()"
      ],
      "metadata": {
        "colab": {
          "base_uri": "https://localhost:8080/",
          "height": 992
        },
        "id": "EAad5hzOu1u6",
        "outputId": "ed5da5ac-b967-4edc-ba77-0eae02fdec2f"
      },
      "execution_count": 1,
      "outputs": [
        {
          "output_type": "stream",
          "name": "stdout",
          "text": [
            "Downloading data from https://storage.googleapis.com/mledu-datasets/cats_and_dogs_filtered.zip\n",
            "\u001b[1m68606236/68606236\u001b[0m \u001b[32m━━━━━━━━━━━━━━━━━━━━\u001b[0m\u001b[37m\u001b[0m \u001b[1m4s\u001b[0m 0us/step\n",
            "Found 2000 images belonging to 2 classes.\n",
            "Found 1000 images belonging to 2 classes.\n"
          ]
        },
        {
          "output_type": "stream",
          "name": "stderr",
          "text": [
            "/usr/local/lib/python3.10/dist-packages/keras/src/layers/convolutional/base_conv.py:107: UserWarning: Do not pass an `input_shape`/`input_dim` argument to a layer. When using Sequential models, prefer using an `Input(shape)` object as the first layer in the model instead.\n",
            "  super().__init__(activity_regularizer=activity_regularizer, **kwargs)\n"
          ]
        },
        {
          "output_type": "stream",
          "name": "stdout",
          "text": [
            "Epoch 1/10\n"
          ]
        },
        {
          "output_type": "stream",
          "name": "stderr",
          "text": [
            "/usr/local/lib/python3.10/dist-packages/keras/src/trainers/data_adapters/py_dataset_adapter.py:122: UserWarning: Your `PyDataset` class should call `super().__init__(**kwargs)` in its constructor. `**kwargs` can include `workers`, `use_multiprocessing`, `max_queue_size`. Do not pass these arguments to `fit()`, as they will be ignored.\n",
            "  self._warn_if_super_not_called()\n"
          ]
        },
        {
          "output_type": "stream",
          "name": "stdout",
          "text": [
            "\u001b[1m62/62\u001b[0m \u001b[32m━━━━━━━━━━━━━━━━━━━━\u001b[0m\u001b[37m\u001b[0m \u001b[1m36s\u001b[0m 452ms/step - accuracy: 0.5060 - loss: 0.8752 - val_accuracy: 0.5010 - val_loss: 0.7070\n",
            "Epoch 2/10\n",
            "\u001b[1m 1/62\u001b[0m \u001b[37m━━━━━━━━━━━━━━━━━━━━\u001b[0m \u001b[1m2s\u001b[0m 39ms/step - accuracy: 0.5625 - loss: 0.6879"
          ]
        },
        {
          "output_type": "stream",
          "name": "stderr",
          "text": [
            "/usr/lib/python3.10/contextlib.py:153: UserWarning: Your input ran out of data; interrupting training. Make sure that your dataset or generator can generate at least `steps_per_epoch * epochs` batches. You may need to use the `.repeat()` function when building your dataset.\n",
            "  self.gen.throw(typ, value, traceback)\n"
          ]
        },
        {
          "output_type": "stream",
          "name": "stdout",
          "text": [
            "\b\b\b\b\b\b\b\b\b\b\b\b\b\b\b\b\b\b\b\b\b\b\b\b\b\b\b\b\b\b\b\b\b\b\b\b\b\b\b\b\b\b\b\b\b\b\b\b\b\b\b\b\b\b\b\b\b\b\b\b\b\b\b\b\b\b\b\b\b\b\b\b\b\r\u001b[1m62/62\u001b[0m \u001b[32m━━━━━━━━━━━━━━━━━━━━\u001b[0m\u001b[37m\u001b[0m \u001b[1m1s\u001b[0m 16ms/step - accuracy: 0.5625 - loss: 0.6879 - val_accuracy: 0.6250 - val_loss: 0.6475\n",
            "Epoch 3/10\n",
            "\u001b[1m62/62\u001b[0m \u001b[32m━━━━━━━━━━━━━━━━━━━━\u001b[0m\u001b[37m\u001b[0m \u001b[1m21s\u001b[0m 222ms/step - accuracy: 0.5153 - loss: 0.6998 - val_accuracy: 0.6008 - val_loss: 0.6627\n",
            "Epoch 4/10\n",
            "\u001b[1m62/62\u001b[0m \u001b[32m━━━━━━━━━━━━━━━━━━━━\u001b[0m\u001b[37m\u001b[0m \u001b[1m1s\u001b[0m 17ms/step - accuracy: 0.6562 - loss: 0.6333 - val_accuracy: 0.8750 - val_loss: 0.5790\n",
            "Epoch 5/10\n",
            "\u001b[1m62/62\u001b[0m \u001b[32m━━━━━━━━━━━━━━━━━━━━\u001b[0m\u001b[37m\u001b[0m \u001b[1m15s\u001b[0m 221ms/step - accuracy: 0.5901 - loss: 0.6724 - val_accuracy: 0.6018 - val_loss: 0.6713\n",
            "Epoch 6/10\n",
            "\u001b[1m62/62\u001b[0m \u001b[32m━━━━━━━━━━━━━━━━━━━━\u001b[0m\u001b[37m\u001b[0m \u001b[1m1s\u001b[0m 17ms/step - accuracy: 0.5625 - loss: 0.6944 - val_accuracy: 0.5000 - val_loss: 0.6720\n",
            "Epoch 7/10\n",
            "\u001b[1m62/62\u001b[0m \u001b[32m━━━━━━━━━━━━━━━━━━━━\u001b[0m\u001b[37m\u001b[0m \u001b[1m19s\u001b[0m 219ms/step - accuracy: 0.6114 - loss: 0.6663 - val_accuracy: 0.5817 - val_loss: 0.6626\n",
            "Epoch 8/10\n",
            "\u001b[1m62/62\u001b[0m \u001b[32m━━━━━━━━━━━━━━━━━━━━\u001b[0m\u001b[37m\u001b[0m \u001b[1m1s\u001b[0m 19ms/step - accuracy: 0.6250 - loss: 0.6625 - val_accuracy: 0.3750 - val_loss: 0.6896\n",
            "Epoch 9/10\n",
            "\u001b[1m62/62\u001b[0m \u001b[32m━━━━━━━━━━━━━━━━━━━━\u001b[0m\u001b[37m\u001b[0m \u001b[1m17s\u001b[0m 246ms/step - accuracy: 0.5734 - loss: 0.6795 - val_accuracy: 0.6603 - val_loss: 0.6133\n",
            "Epoch 10/10\n",
            "\u001b[1m62/62\u001b[0m \u001b[32m━━━━━━━━━━━━━━━━━━━━\u001b[0m\u001b[37m\u001b[0m \u001b[1m0s\u001b[0m 301us/step - accuracy: 0.8125 - loss: 0.5295 - val_accuracy: 0.8750 - val_loss: 0.4136\n",
            "\u001b[1m32/32\u001b[0m \u001b[32m━━━━━━━━━━━━━━━━━━━━\u001b[0m\u001b[37m\u001b[0m \u001b[1m1s\u001b[0m 45ms/step - accuracy: 0.6824 - loss: 0.6033\n",
            "Validation Accuracy: 67.50%\n"
          ]
        },
        {
          "output_type": "display_data",
          "data": {
            "text/plain": [
              "<Figure size 1200x400 with 2 Axes>"
            ],
            "image/png": "[encoded data removed]"
          },
          "metadata": {}
        }
      ]
    },
    {
      "cell_type": "markdown",
      "source": [
        "# **Use LSTM to analyze a short text dataset and predict the next word in a sentence**"
      ],
      "metadata": {
        "id": "odYVPD0vy9j9"
      }
    },
    {
      "cell_type": "code",
      "source": [
        "import numpy as np\n",
        "import tensorflow as tf\n",
        "from tensorflow.keras.preprocessing.text import Tokenizer\n",
        "from tensorflow.keras.preprocessing.sequence import pad_sequences\n",
        "from tensorflow.keras.models import Sequential\n",
        "from tensorflow.keras.layers import Embedding, LSTM, Dense\n",
        "\n",
        "# Sample text dataset\n",
        "text_data = \"\"\"\n",
        "I love machine learning\n",
        "Machine learning is amazing\n",
        "Deep learning is part of AI\n",
        "AI is the future of technology\n",
        "Learning makes life interesting\n",
        "\"\"\"\n",
        "\n",
        "# Tokenize the text\n",
        "tokenizer = Tokenizer()\n",
        "tokenizer.fit_on_texts([text_data])\n",
        "word_index = tokenizer.word_index\n",
        "total_words = len(word_index) + 1\n",
        "\n",
        "# Create input sequences\n",
        "input_sequences = []\n",
        "for line in text_data.split('\\n'):\n",
        "    token_list = tokenizer.texts_to_sequences([line])[0]\n",
        "    for i in range(1, len(token_list)):\n",
        "        n_gram_sequence = token_list[:i+1]\n",
        "        input_sequences.append(n_gram_sequence)\n",
        "\n",
        "# Pad sequences\n",
        "max_sequence_len = max([len(seq) for seq in input_sequences])\n",
        "input_sequences = pad_sequences(input_sequences, maxlen=max_sequence_len, padding='pre')\n",
        "\n",
        "# Split into inputs (X) and outputs (y)\n",
        "X = input_sequences[:, :-1]\n",
        "y = input_sequences[:, -1]\n",
        "y = tf.keras.utils.to_categorical(y, num_classes=total_words)\n",
        "\n",
        "# Build the LSTM model\n",
        "model = Sequential([\n",
        "    Embedding(total_words, 50, input_length=max_sequence_len-1),\n",
        "    LSTM(100),\n",
        "    Dense(total_words, activation='softmax')\n",
        "])\n",
        "\n",
        "# Compile the model\n",
        "model.compile(loss='categorical_crossentropy', optimizer='adam', metrics=['accuracy'])\n",
        "\n",
        "# Train the model\n",
        "model.fit(X, y, epochs=100, verbose=2)\n",
        "\n",
        "# Function to predict the next word\n",
        "def predict_next_word(model, tokenizer, text, max_sequence_len):\n",
        "    token_list = tokenizer.texts_to_sequences([text])[0]\n",
        "    token_list = pad_sequences([token_list], maxlen=max_sequence_len-1, padding='pre')\n",
        "    predicted_probs = model.predict(token_list, verbose=0)\n",
        "    predicted_word_index = np.argmax(predicted_probs)\n",
        "    for word, index in tokenizer.word_index.items():\n",
        "        if index == predicted_word_index:\n",
        "            return word\n",
        "    return None\n",
        "\n",
        "# Test the model\n",
        "seed_text = \"Artificial\"\n",
        "next_word = predict_next_word(model, tokenizer, seed_text, max_sequence_len)\n",
        "print(f\"Seed text: '{seed_text}'\")\n",
        "print(f\"Predicted next word: '{next_word}'\")"
      ],
      "metadata": {
        "colab": {
          "base_uri": "https://localhost:8080/"
        },
        "id": "7MBOLtCSsV3N",
        "outputId": "1a34da20-f057-4f3a-8fda-75c9f56ab18b"
      },
      "execution_count": null,
      "outputs": [
        {
          "output_type": "stream",
          "name": "stdout",
          "text": [
            "Epoch 1/100\n",
            "1/1 - 1s - 1s/step - accuracy: 0.0000e+00 - loss: 2.8340\n",
            "Epoch 2/100\n",
            "1/1 - 0s - 48ms/step - accuracy: 0.1053 - loss: 2.8274\n",
            "Epoch 3/100\n",
            "1/1 - 0s - 21ms/step - accuracy: 0.2105 - loss: 2.8207\n",
            "Epoch 4/100\n",
            "1/1 - 0s - 23ms/step - accuracy: 0.1579 - loss: 2.8139\n",
            "Epoch 5/100\n",
            "1/1 - 0s - 56ms/step - accuracy: 0.1579 - loss: 2.8067\n",
            "Epoch 6/100\n",
            "1/1 - 0s - 20ms/step - accuracy: 0.1579 - loss: 2.7992\n",
            "Epoch 7/100\n",
            "1/1 - 0s - 22ms/step - accuracy: 0.1579 - loss: 2.7909\n",
            "Epoch 8/100\n",
            "1/1 - 0s - 57ms/step - accuracy: 0.1579 - loss: 2.7819\n",
            "Epoch 9/100\n",
            "1/1 - 0s - 57ms/step - accuracy: 0.1579 - loss: 2.7720\n",
            "Epoch 10/100\n",
            "1/1 - 0s - 21ms/step - accuracy: 0.1579 - loss: 2.7608\n",
            "Epoch 11/100\n",
            "1/1 - 0s - 21ms/step - accuracy: 0.1579 - loss: 2.7483\n",
            "Epoch 12/100\n",
            "1/1 - 0s - 59ms/step - accuracy: 0.1579 - loss: 2.7341\n",
            "Epoch 13/100\n",
            "1/1 - 0s - 57ms/step - accuracy: 0.1579 - loss: 2.7179\n",
            "Epoch 14/100\n",
            "1/1 - 0s - 57ms/step - accuracy: 0.1579 - loss: 2.6995\n",
            "Epoch 15/100\n",
            "1/1 - 0s - 22ms/step - accuracy: 0.1579 - loss: 2.6786\n",
            "Epoch 16/100\n",
            "1/1 - 0s - 58ms/step - accuracy: 0.1579 - loss: 2.6549\n",
            "Epoch 17/100\n",
            "1/1 - 0s - 57ms/step - accuracy: 0.1579 - loss: 2.6281\n",
            "Epoch 18/100\n",
            "1/1 - 0s - 20ms/step - accuracy: 0.1579 - loss: 2.5983\n",
            "Epoch 19/100\n",
            "1/1 - 0s - 20ms/step - accuracy: 0.1579 - loss: 2.5658\n",
            "Epoch 20/100\n",
            "1/1 - 0s - 58ms/step - accuracy: 0.1579 - loss: 2.5315\n",
            "Epoch 21/100\n",
            "1/1 - 0s - 20ms/step - accuracy: 0.1579 - loss: 2.4974\n",
            "Epoch 22/100\n",
            "1/1 - 0s - 21ms/step - accuracy: 0.1579 - loss: 2.4668\n",
            "Epoch 23/100\n",
            "1/1 - 0s - 21ms/step - accuracy: 0.1579 - loss: 2.4438\n",
            "Epoch 24/100\n",
            "1/1 - 0s - 21ms/step - accuracy: 0.1579 - loss: 2.4315\n",
            "Epoch 25/100\n",
            "1/1 - 0s - 21ms/step - accuracy: 0.1579 - loss: 2.4270\n",
            "Epoch 26/100\n",
            "1/1 - 0s - 20ms/step - accuracy: 0.1579 - loss: 2.4219\n",
            "Epoch 27/100\n",
            "1/1 - 0s - 23ms/step - accuracy: 0.1579 - loss: 2.4088\n",
            "Epoch 28/100\n",
            "1/1 - 0s - 55ms/step - accuracy: 0.2632 - loss: 2.3869\n",
            "Epoch 29/100\n",
            "1/1 - 0s - 24ms/step - accuracy: 0.3158 - loss: 2.3598\n",
            "Epoch 30/100\n",
            "1/1 - 0s - 59ms/step - accuracy: 0.3158 - loss: 2.3320\n",
            "Epoch 31/100\n",
            "1/1 - 0s - 56ms/step - accuracy: 0.3158 - loss: 2.3064\n",
            "Epoch 32/100\n",
            "1/1 - 0s - 55ms/step - accuracy: 0.3158 - loss: 2.2843\n",
            "Epoch 33/100\n",
            "1/1 - 0s - 57ms/step - accuracy: 0.3684 - loss: 2.2648\n",
            "Epoch 34/100\n",
            "1/1 - 0s - 21ms/step - accuracy: 0.3684 - loss: 2.2465\n",
            "Epoch 35/100\n",
            "1/1 - 0s - 21ms/step - accuracy: 0.4211 - loss: 2.2278\n",
            "Epoch 36/100\n",
            "1/1 - 0s - 58ms/step - accuracy: 0.4211 - loss: 2.2074\n",
            "Epoch 37/100\n",
            "1/1 - 0s - 24ms/step - accuracy: 0.4211 - loss: 2.1844\n",
            "Epoch 38/100\n",
            "1/1 - 0s - 21ms/step - accuracy: 0.4211 - loss: 2.1587\n",
            "Epoch 39/100\n",
            "1/1 - 0s - 21ms/step - accuracy: 0.4211 - loss: 2.1303\n",
            "Epoch 40/100\n",
            "1/1 - 0s - 21ms/step - accuracy: 0.4211 - loss: 2.0999\n",
            "Epoch 41/100\n",
            "1/1 - 0s - 23ms/step - accuracy: 0.4211 - loss: 2.0682\n",
            "Epoch 42/100\n",
            "1/1 - 0s - 22ms/step - accuracy: 0.4211 - loss: 2.0362\n",
            "Epoch 43/100\n",
            "1/1 - 0s - 21ms/step - accuracy: 0.4211 - loss: 2.0042\n",
            "Epoch 44/100\n",
            "1/1 - 0s - 57ms/step - accuracy: 0.4211 - loss: 1.9720\n",
            "Epoch 45/100\n",
            "1/1 - 0s - 58ms/step - accuracy: 0.4211 - loss: 1.9389\n",
            "Epoch 46/100\n",
            "1/1 - 0s - 21ms/step - accuracy: 0.4737 - loss: 1.9041\n",
            "Epoch 47/100\n",
            "1/1 - 0s - 20ms/step - accuracy: 0.4737 - loss: 1.8673\n",
            "Epoch 48/100\n",
            "1/1 - 0s - 21ms/step - accuracy: 0.4737 - loss: 1.8287\n",
            "Epoch 49/100\n",
            "1/1 - 0s - 22ms/step - accuracy: 0.4737 - loss: 1.7891\n",
            "Epoch 50/100\n",
            "1/1 - 0s - 57ms/step - accuracy: 0.5263 - loss: 1.7489\n",
            "Epoch 51/100\n",
            "1/1 - 0s - 21ms/step - accuracy: 0.4737 - loss: 1.7084\n",
            "Epoch 52/100\n",
            "1/1 - 0s - 58ms/step - accuracy: 0.4737 - loss: 1.6677\n",
            "Epoch 53/100\n",
            "1/1 - 0s - 24ms/step - accuracy: 0.4737 - loss: 1.6263\n",
            "Epoch 54/100\n",
            "1/1 - 0s - 22ms/step - accuracy: 0.4737 - loss: 1.5838\n",
            "Epoch 55/100\n",
            "1/1 - 0s - 22ms/step - accuracy: 0.4737 - loss: 1.5403\n",
            "Epoch 56/100\n",
            "1/1 - 0s - 27ms/step - accuracy: 0.4737 - loss: 1.4968\n",
            "Epoch 57/100\n",
            "1/1 - 0s - 57ms/step - accuracy: 0.5263 - loss: 1.4546\n",
            "Epoch 58/100\n",
            "1/1 - 0s - 58ms/step - accuracy: 0.5263 - loss: 1.4136\n",
            "Epoch 59/100\n",
            "1/1 - 0s - 56ms/step - accuracy: 0.5789 - loss: 1.3728\n",
            "Epoch 60/100\n",
            "1/1 - 0s - 55ms/step - accuracy: 0.5789 - loss: 1.3326\n",
            "Epoch 61/100\n",
            "1/1 - 0s - 57ms/step - accuracy: 0.5789 - loss: 1.2942\n",
            "Epoch 62/100\n",
            "1/1 - 0s - 21ms/step - accuracy: 0.6316 - loss: 1.2572\n",
            "Epoch 63/100\n",
            "1/1 - 0s - 20ms/step - accuracy: 0.6316 - loss: 1.2210\n",
            "Epoch 64/100\n",
            "1/1 - 0s - 21ms/step - accuracy: 0.6842 - loss: 1.1857\n",
            "Epoch 65/100\n",
            "1/1 - 0s - 23ms/step - accuracy: 0.7368 - loss: 1.1513\n",
            "Epoch 66/100\n",
            "1/1 - 0s - 58ms/step - accuracy: 0.7368 - loss: 1.1183\n",
            "Epoch 67/100\n",
            "1/1 - 0s - 22ms/step - accuracy: 0.7368 - loss: 1.0866\n",
            "Epoch 68/100\n",
            "1/1 - 0s - 58ms/step - accuracy: 0.7368 - loss: 1.0552\n",
            "Epoch 69/100\n",
            "1/1 - 0s - 21ms/step - accuracy: 0.7368 - loss: 1.0241\n",
            "Epoch 70/100\n",
            "1/1 - 0s - 23ms/step - accuracy: 0.7368 - loss: 0.9939\n",
            "Epoch 71/100\n",
            "1/1 - 0s - 21ms/step - accuracy: 0.7895 - loss: 0.9641\n",
            "Epoch 72/100\n",
            "1/1 - 0s - 21ms/step - accuracy: 0.7895 - loss: 0.9344\n",
            "Epoch 73/100\n",
            "1/1 - 0s - 21ms/step - accuracy: 0.7895 - loss: 0.9057\n",
            "Epoch 74/100\n",
            "1/1 - 0s - 57ms/step - accuracy: 0.7895 - loss: 0.8779\n",
            "Epoch 75/100\n",
            "1/1 - 0s - 21ms/step - accuracy: 0.7895 - loss: 0.8507\n",
            "Epoch 76/100\n",
            "1/1 - 0s - 22ms/step - accuracy: 0.8421 - loss: 0.8243\n",
            "Epoch 77/100\n",
            "1/1 - 0s - 22ms/step - accuracy: 0.8421 - loss: 0.7986\n",
            "Epoch 78/100\n",
            "1/1 - 0s - 22ms/step - accuracy: 0.8421 - loss: 0.7734\n",
            "Epoch 79/100\n",
            "1/1 - 0s - 22ms/step - accuracy: 0.8421 - loss: 0.7487\n",
            "Epoch 80/100\n",
            "1/1 - 0s - 22ms/step - accuracy: 0.8421 - loss: 0.7245\n",
            "Epoch 81/100\n",
            "1/1 - 0s - 22ms/step - accuracy: 0.8421 - loss: 0.7010\n",
            "Epoch 82/100\n",
            "1/1 - 0s - 21ms/step - accuracy: 0.8421 - loss: 0.6780\n",
            "Epoch 83/100\n",
            "1/1 - 0s - 24ms/step - accuracy: 0.8421 - loss: 0.6558\n",
            "Epoch 84/100\n",
            "1/1 - 0s - 56ms/step - accuracy: 0.8421 - loss: 0.6342\n",
            "Epoch 85/100\n",
            "1/1 - 0s - 27ms/step - accuracy: 0.8421 - loss: 0.6131\n",
            "Epoch 86/100\n",
            "1/1 - 0s - 27ms/step - accuracy: 0.8421 - loss: 0.5925\n",
            "Epoch 87/100\n",
            "1/1 - 0s - 62ms/step - accuracy: 0.8947 - loss: 0.5725\n",
            "Epoch 88/100\n",
            "1/1 - 0s - 29ms/step - accuracy: 0.8947 - loss: 0.5530\n",
            "Epoch 89/100\n",
            "1/1 - 0s - 58ms/step - accuracy: 0.8947 - loss: 0.5342\n",
            "Epoch 90/100\n",
            "1/1 - 0s - 58ms/step - accuracy: 0.8947 - loss: 0.5159\n",
            "Epoch 91/100\n",
            "1/1 - 0s - 21ms/step - accuracy: 0.9474 - loss: 0.4982\n",
            "Epoch 92/100\n",
            "1/1 - 0s - 24ms/step - accuracy: 0.9474 - loss: 0.4810\n",
            "Epoch 93/100\n",
            "1/1 - 0s - 24ms/step - accuracy: 0.9474 - loss: 0.4641\n",
            "Epoch 94/100\n",
            "1/1 - 0s - 59ms/step - accuracy: 0.9474 - loss: 0.4475\n",
            "Epoch 95/100\n",
            "1/1 - 0s - 21ms/step - accuracy: 0.9474 - loss: 0.4313\n",
            "Epoch 96/100\n",
            "1/1 - 0s - 21ms/step - accuracy: 0.9474 - loss: 0.4155\n",
            "Epoch 97/100\n",
            "1/1 - 0s - 58ms/step - accuracy: 0.9474 - loss: 0.4002\n",
            "Epoch 98/100\n",
            "1/1 - 0s - 21ms/step - accuracy: 1.0000 - loss: 0.3854\n",
            "Epoch 99/100\n",
            "1/1 - 0s - 21ms/step - accuracy: 1.0000 - loss: 0.3709\n",
            "Epoch 100/100\n",
            "1/1 - 0s - 21ms/step - accuracy: 1.0000 - loss: 0.3570\n",
            "Seed text: 'Artificial'\n",
            "Predicted next word: 'learning'\n"
          ]
        }
      ]
    },
    {
      "cell_type": "code",
      "source": [],
      "metadata": {
        "id": "rUksvzH3zH8s"
      },
      "execution_count": null,
      "outputs": []
    }
  ]
}